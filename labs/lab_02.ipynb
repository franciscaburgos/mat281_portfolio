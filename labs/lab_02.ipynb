{
 "cells": [
  {
   "cell_type": "markdown",
   "metadata": {},
   "source": [
    "# MAT281 - Laboratorio N°02\n",
    "\n"
   ]
  },
  {
   "cell_type": "markdown",
   "metadata": {},
   "source": [
    "<a id='p1'></a>\n",
    "\n",
    "## Problema 01\n",
    "\n",
    "Una **media móvil simple** (SMA) es el promedio de los últimos $k$ datos anteriores, es decir, sea $a_1$,$a_2$,...,$a_n$ un arreglo $n$-dimensional, entonces la SMA se define por:\n",
    "\n",
    "$$\\displaystyle sma(k) =\\dfrac{1}{k}(a_{n}+a_{n-1}+...+a_{n-(k-1)}) = \\dfrac{1}{k}\\sum_{i=0}^{k-1}a_{n-i}  $$ \n",
    "\n",
    "\n",
    "Por otro lado podemos definir el SMA con una venta móvil de $n$ si el resultado nos retorna la el promedio ponderado avanzando de la siguiente forma:\n",
    "\n",
    "* $a = [1,2,3,4,5]$, la SMA con una ventana de $n=2$ sería:\n",
    " * sma(2) = [promedio(1,2), promedio(2,3), promedio(3,4), promedio(4,5)] = [1.5, 2.5, 3.5, 4.5]\n",
    "\n",
    "\n",
    "* $a = [1,2,3,4,5]$, la SMA con una ventana de $n=3$ sería:\n",
    " * sma(3) = [promedio(1,2,3), promedio(2,3,4), promedio(3,4,5)] = [2.,3.,4.]\n",
    "\n",
    "\n",
    "Implemente una función llamada `sma` cuyo input sea un arreglo unidimensional $a$ y un entero $n$, y cuyo ouput retorne el valor de la media móvil simple sobre el arreglo de la siguiente forma:\n",
    "\n",
    "* **Ejemplo**: *sma([5,3,8,10,2,1,5,1,0,2], 2)* = $[4. , 5.5, 9. , 6. , 1.5, 3. , 3. , 0.5, 1. ]$\n",
    "\n",
    "En este caso, se esta calculando el SMA para un arreglo con una ventana de $n=2$.\n",
    "\n",
    "**Hint**: utilice la función `numpy.cumsum`"
   ]
  },
  {
   "cell_type": "code",
   "execution_count": null,
   "metadata": {},
   "outputs": [],
   "source": [
    "# importar librerias\n",
    "import numpy as np "
   ]
  },
  {
   "cell_type": "markdown",
   "metadata": {},
   "source": [
    "### Definir Función"
   ]
  },
  {
   "cell_type": "code",
   "execution_count": null,
   "metadata": {},
   "outputs": [],
   "source": [
    "def promedio(b,n:int)->int:        #b:tupla n:largo tupla\n",
    "    c=np.cumsum(b)            #guardarmos el arreglo con la suma de los elementos que estara en la posicion n-1\n",
    "    promedio=c[n-1]/n\n",
    "    return promedio\n",
    "\n",
    "    \n",
    "def sma(a:np.ndarray,window_len:int)->np.ndarray:\n",
    "    n=window_len\n",
    "    b=np.empty([n])  #tupla de n elementos\n",
    "    t=np.size(a)\n",
    "    c=t-(n-1) #cantidad de tuplas que se pueden hacer\n",
    "    p=np.empty([c]) #arreglo con capacidad igual a la cantidad de tuplas que se pueden hacer\n",
    "    \n",
    "    while c!=0:\n",
    "        i=n #copiamos el valor de n para poder iterarlo\n",
    "        while i!=0:\n",
    "            b[i-1]=a[t-1]  #areglar b\n",
    "            i-=1\n",
    "            t-=1\n",
    "        t=t+(n-1)       \n",
    "        p[c-1]=promedio(b,n)\n",
    "        c-=1\n",
    "    return p"
   ]
  },
  {
   "cell_type": "markdown",
   "metadata": {},
   "source": [
    "### Verificar ejemplos"
   ]
  },
  {
   "cell_type": "code",
   "execution_count": null,
   "metadata": {},
   "outputs": [],
   "source": [
    "# ejemplo 01\n",
    "a = np.array([1,2,3,4,5])\n",
    "\n",
    "np.testing.assert_array_equal(\n",
    "    sma(a, window_len=2),\n",
    "    np.array([1.5, 2.5, 3.5, 4.5])\n",
    ")"
   ]
  },
  {
   "cell_type": "code",
   "execution_count": null,
   "metadata": {},
   "outputs": [],
   "source": [
    "# ejemplo 02\n",
    "a = np.array([5,3,8,10,2,1,5,1,0,2])\n",
    "\n",
    "np.testing.assert_array_equal(\n",
    "    sma(a, window_len=2),\n",
    "    np.array([4. , 5.5, 9. , 6. , 1.5, 3. , 3. , 0.5, 1. ])\n",
    ")"
   ]
  },
  {
   "cell_type": "markdown",
   "metadata": {},
   "source": [
    "<a id='p2'></a>\n",
    "\n",
    "## Problema 02\n",
    "\n",
    "La función **strides($a,n,p$)**, corresponde a transformar un arreglo unidimensional $a$ en una matriz de $n$ columnas, en el cual las filas se van construyendo desfasando la posición del arreglo en $p$ pasos hacia adelante.\n",
    "\n",
    "* Para el arreglo unidimensional $a$ = [ 1,  2,  3,  4,  5,  6,  7,  8,  9, 10], la función strides($a,4,2$), corresponde a crear una matriz de $4$ columnas, cuyos desfaces hacia adelante se hacen de dos en dos. \n",
    "\n",
    "El resultado tendría que ser algo así:$$\\begin{pmatrix}\n",
    " 1& 2 &3 &4 \\\\ \n",
    " 3&  4&5&6 \\\\ \n",
    " 5& 6 &7 &8 \\\\ \n",
    " 7& 8 &9 &10 \\\\ \n",
    "\\end{pmatrix}$$\n",
    "\n",
    "\n",
    "Implemente una función llamada `strides(a,n,p)` cuyo input sea:\n",
    "* $a$: un arreglo unidimensional, \n",
    "* $n$: el número de columnas,\n",
    "* $p$: el número de pasos hacia adelante  \n",
    "\n",
    "y retorne la matriz de $n$ columnas, cuyos desfaces hacia adelante se hacen de $p$ en $p$ pasos. \n",
    "\n",
    "* **Ejemplo**: *strides($a$,4,2)* =$\\begin{pmatrix}\n",
    " 1& 2 &3 &4 \\\\ \n",
    " 3&  4&5&6 \\\\ \n",
    " 5& 6 &7 &8 \\\\ \n",
    " 7& 8 &9 &10 \\\\ \n",
    "\\end{pmatrix}$\n"
   ]
  },
  {
   "cell_type": "markdown",
   "metadata": {},
   "source": [
    "### Definir Función"
   ]
  },
  {
   "cell_type": "code",
   "execution_count": null,
   "metadata": {},
   "outputs": [],
   "source": [
    "def strides(a:np.ndarray,n:int,p:int)->np.ndarray:\n",
    "    f=np.empty([1,n])\n",
    "    j=0\n",
    "    while j<n:\n",
    "        f[0][j]=a[j]\n",
    "        j+=1\n",
    "    \n",
    "    tamano=len(a)\n",
    "    paso=(tamano-n)\n",
    "    posicion=int(paso/p)\n",
    "\n",
    "    g=np.empty([n])\n",
    "    r=int(posicion+1)  #int\n",
    "    for i in range (1,r):\n",
    "        for j in range(0,n):\n",
    "            g[j]=a[j+i*p]\n",
    "        f=np.vstack([f,g])  #apila matrices\n",
    "    return f"
   ]
  },
  {
   "cell_type": "markdown",
   "metadata": {},
   "source": [
    "### Verificar ejemplos"
   ]
  },
  {
   "cell_type": "code",
   "execution_count": null,
   "metadata": {},
   "outputs": [],
   "source": [
    "# ejemplo 01\n",
    "a = np.array([ 1,  2,  3,  4,  5,  6,  7,  8,  9, 10])\n",
    "n=4\n",
    "p=2\n",
    "\n",
    "np.testing.assert_array_equal(\n",
    "    strides(a,n,p),\n",
    "    np.array([\n",
    "       [ 1,  2,  3,  4],\n",
    "       [ 3,  4,  5,  6],\n",
    "       [ 5,  6,  7,  8],\n",
    "       [ 7,  8,  9, 10]\n",
    "    ])\n",
    ")"
   ]
  },
  {
   "cell_type": "markdown",
   "metadata": {},
   "source": [
    "<a id='p3'></a>\n",
    "\n",
    "## Problema 03\n",
    "\n",
    "\n",
    "Un **cuadrado mágico** es una matriz de tamaño $n \\times n$ de números enteros positivos tal que \n",
    "la suma de los números por columnas, filas y diagonales principales sea la misma. Usualmente, los números empleados para rellenar las casillas son consecutivos, de 1 a $n^2$, siendo $n$ el número de columnas y filas del cuadrado mágico.\n",
    "\n",
    "Si los números son consecutivos de 1 a $n^2$, la suma de los números por columnas, filas y diagonales principales \n",
    "es igual a : $$\\displaystyle M_{n} = \\dfrac{n(n^2+1)}{2}$$\n",
    "Por ejemplo, \n",
    "\n",
    "* $A= \\begin{pmatrix}\n",
    " 4& 9 &2 \\\\ \n",
    " 3&  5&7 \\\\ \n",
    " 8& 1 &6 \n",
    "\\end{pmatrix}$,\n",
    "es un cuadrado mágico.\n",
    "\n",
    "* $B= \\begin{pmatrix}\n",
    " 4& 2 &9 \\\\ \n",
    " 3&  5&7 \\\\ \n",
    " 8& 1 &6 \n",
    "\\end{pmatrix}$, no es un cuadrado mágico.\n",
    "\n",
    "Implemente una función llamada `es_cuadrado_magico` cuyo input sea una matriz cuadrada de tamaño $n$ con números consecutivos de $1$ a $n^2$ y cuyo ouput retorne *True* si es un cuadrado mágico o 'False', en caso contrario\n",
    "\n",
    "* **Ejemplo**: *es_cuadrado_magico($A$)* = True, *es_cuadrado_magico($B$)* = False\n",
    "\n",
    "**Hint**: Cree una función que valide la mariz es cuadrada y  que sus números son consecutivos del 1 a $n^2$."
   ]
  },
  {
   "cell_type": "markdown",
   "metadata": {},
   "source": [
    "### Definir Función"
   ]
  },
  {
   "cell_type": "code",
   "execution_count": null,
   "metadata": {},
   "outputs": [],
   "source": [
    "def suma_fila(A:np.ndarray, n:int)->int:  #suma fila o columna\n",
    "    suma=0\n",
    "    i=0\n",
    "    while i<n:\n",
    "        suma+=A[i]\n",
    "        i+=1\n",
    "    return suma\n",
    "\n",
    "def suma_diagonal(A:np.ndarray,n:int)->int:\n",
    "    suma=0\n",
    "    i=0\n",
    "    while i<n:\n",
    "        suma+=A[i][i]\n",
    "        i+=1\n",
    "    return suma\n",
    "\n",
    "def es_cuadrada(A:np.ndarray)->bool:   #funcion para validar que la matriz es cuadrada (se pide en el hint)\n",
    "    if A.shape[0] != A.shape[1]:\n",
    "        return False\n",
    "    return True       \n",
    "\n",
    "def numeros_consecutivos(A:np.ndarray,n)->bool:  #funcion para validar que los elementos de la matriz son consecutivos del 1 al n^2\n",
    "    numeros=np.ravel(A)\n",
    "    ordenados=np.sort(numeros)\n",
    "    largo=len(numeros)\n",
    "    t=np.arange(1,n*n+1)\n",
    "    \n",
    "    if ((ordenados==t).all())==True:\n",
    "        return True\n",
    "    return False\n",
    "\n",
    "def es_cuadrado_magico(A:np.ndarray)->bool:\n",
    "    if es_cuadrada(A) == False:\n",
    "        return print(\"La matriz no es cuadrada\")\n",
    "    \n",
    "    \n",
    "    n=np.size(A[0])   #para saber el largo de una fila o columna\n",
    "    if numeros_consecutivos(A,n) == False:\n",
    "        return print(\"Los elementos de la matriz  no son consecutivos del 1 al n^2\")\n",
    "    \n",
    "    suma=n*(n*n+1)/2\n",
    "    p=n+n+2 #n filas + n columnas + 2 diagonales\n",
    "    b=np.empty([p]) #arreglo de p elementos para luego guardar las sumas de cada fila o columna o diagonal\n",
    "    i=0\n",
    "    \n",
    "    while i<n:\n",
    "        b[i]=suma_fila(A[i],n)  #suma los elementos de la fila y lo guarda en b\n",
    "        i+=1\n",
    "    \n",
    "    j=0\n",
    "    while j<n:\n",
    "        b[i]=suma_fila(A[:,j],n)  #suma los elementos de la columna y lo guarda en b\n",
    "        i+=1\n",
    "        j+=1\n",
    "    \n",
    "    while i<p:\n",
    "        b[i]=suma_diagonal(A,n)\n",
    "        i+=1\n",
    "        b[i]=suma_diagonal(np.fliplr(A),n)\n",
    "        i+=1\n",
    "    \n",
    "    cont=0\n",
    "    for i in range(0,p):\n",
    "        if b[i]==suma:\n",
    "            cont+=1\n",
    "    if cont==p:\n",
    "        return True\n",
    "    else:\n",
    "        return False"
   ]
  },
  {
   "cell_type": "markdown",
   "metadata": {},
   "source": [
    "### Verificar ejemplos"
   ]
  },
  {
   "cell_type": "code",
   "execution_count": null,
   "metadata": {},
   "outputs": [],
   "source": [
    "# ejemplo 01\n",
    "A = np.array([[4,9,2],[3,5,7],[8,1,6]])\n",
    "assert es_cuadrado_magico(A) == True, \"ejemplo 01 incorrecto\""
   ]
  },
  {
   "cell_type": "code",
   "execution_count": null,
   "metadata": {},
   "outputs": [],
   "source": [
    "# ejemplo 02\n",
    "B = np.array([[4,2,9],[3,5,7],[8,1,6]])\n",
    "assert es_cuadrado_magico(B) == False, \"ejemplo 02 incorrecto\""
   ]
  }
 ],
 "metadata": {
  "kernelspec": {
   "display_name": "Python 3 (ipykernel)",
   "language": "python",
   "name": "python3"
  },
  "language_info": {
   "codemirror_mode": {
    "name": "ipython",
    "version": 3
   },
   "file_extension": ".py",
   "mimetype": "text/x-python",
   "name": "python",
   "nbconvert_exporter": "python",
   "pygments_lexer": "ipython3",
   "version": "3.8.11"
  }
 },
 "nbformat": 4,
 "nbformat_minor": 4
}
