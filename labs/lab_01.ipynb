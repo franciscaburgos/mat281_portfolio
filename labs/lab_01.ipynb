{
 "cells": [
  {
   "cell_type": "markdown",
   "metadata": {},
   "source": [
    "# MAT281 - Laboratorio N°01"
   ]
  },
  {
   "cell_type": "markdown",
   "metadata": {},
   "source": [
    "<a id='p1'></a>\n",
    "\n",
    "## Problema 01\n",
    "\n",
    "### a) Calcular el número $\\pi$\n",
    "\n",
    "En los siglos XVII y XVIII, James Gregory y Gottfried Leibniz descubrieron una serie infinita que sirve para calcular $\\pi$:\n",
    "\n",
    "$$\\displaystyle \\pi = 4 \\sum_{k=1}^{\\infty}\\dfrac{(-1)^{k+1}}{2k-1} = 4(1-\\dfrac{1}{3}+\\dfrac{1}{5}-\\dfrac{1}{7} + ...) $$\n",
    "\n",
    "Desarolle un programa para estimar el valor de $\\pi$ ocupando el método de Leibniz, donde la entrada del programa debe ser un número entero $n$ que indique cuántos términos de la suma se utilizará.\n",
    "\n",
    "\n",
    "* **Ejemplo**: *calcular_pi(3)* = 3.466666666666667, *calcular_pi(1000)* = 3.140592653839794\n"
   ]
  },
  {
   "cell_type": "markdown",
   "metadata": {},
   "source": [
    "### Definir Función\n"
   ]
  },
  {
   "cell_type": "code",
   "execution_count": null,
   "metadata": {},
   "outputs": [],
   "source": [
    "def calcular_pi(n:int)->float:\n",
    "    \n",
    "    \"\"\"\n",
    "    calcular_pi(n)\n",
    "\n",
    "    Aproximacion del valor de pi mediante el método de Leibniz\n",
    "\n",
    "    Parameters\n",
    "    ----------\n",
    "    n : int\n",
    "        Numero de terminos.\n",
    "\n",
    "    Returns\n",
    "    -------\n",
    "    output : float\n",
    "        Valor aproximado de pi.\n",
    "        \n",
    "    Examples\n",
    "    --------\n",
    "    >>> calcular_pi(3)\n",
    "    3.466666666666667\n",
    "    \n",
    "    >>> calcular_pi(1000) \n",
    "    3.140592653839794\n",
    "    \"\"\"\n",
    "    \n",
    "    pi = 0 # valor incial \n",
    "    for k in range(1,n+1):\n",
    "        numerador = (-1)**(k+1) # numerador de la iteracion i\n",
    "        denominador = 2*k-1  # denominador de la iteracion i\n",
    "        pi+=numerador/denominador # suma hasta el i-esimo termino\n",
    "    \n",
    "    return 4*pi"
   ]
  },
  {
   "cell_type": "code",
   "execution_count": null,
   "metadata": {
    "scrolled": false
   },
   "outputs": [],
   "source": [
    "# Acceso a la documentación\n",
    "help(calcular_pi)"
   ]
  },
  {
   "cell_type": "markdown",
   "metadata": {},
   "source": [
    "### Verificar ejemplos"
   ]
  },
  {
   "cell_type": "code",
   "execution_count": null,
   "metadata": {},
   "outputs": [],
   "source": [
    "# ejemplo 01\n",
    "assert calcular_pi(3) == 3.466666666666667, \"ejemplo 01 incorrecto\""
   ]
  },
  {
   "cell_type": "code",
   "execution_count": null,
   "metadata": {},
   "outputs": [],
   "source": [
    "# ejemplo 02\n",
    "assert calcular_pi(1000) == 3.140592653839794, \"ejemplo 02 incorrecto\""
   ]
  },
  {
   "cell_type": "markdown",
   "metadata": {},
   "source": [
    "**Observación**:\n",
    "\n",
    "* Note que si corre la línea de comando `calcular_pi(3.0)` le mandará un error ... ¿ por qué ?\n",
    "\n",
    "Porque 3.0 es tipo float y no puede ser interpretado como tipo int pues la funcion calcular_pi recibe un tipo int no float.\n",
    "* En los laboratorio, no se pide ser tan meticuloso con la documentacion.\n",
    "* Lo primero es definir el código, correr los ejemplos  y  luego documentar correctamente."
   ]
  },
  {
   "cell_type": "markdown",
   "metadata": {},
   "source": [
    "### b) Calcular el número $e$\n",
    "\n",
    "Euler realizó varios aportes en relación a $e$, pero no fue hasta 1748 cuando publicó su **Introductio in analysin infinitorum** que dio un tratamiento definitivo a las ideas sobre $e$. Allí mostró que:\n",
    "\n",
    "\n",
    "En los siglos XVII y XVIII, James Gregory y Gottfried Leibniz descubrieron una serie infinita que sirve para calcular π:\n",
    "\n",
    "$$\\displaystyle e = \\sum_{k=0}^{\\infty}\\dfrac{1}{k!} = 1+\\dfrac{1}{2!}+\\dfrac{1}{3!}+\\dfrac{1}{4!} + ... $$\n",
    "\n",
    "Desarolle un programa para estimar el valor de $e$ ocupando el método de Euler, donde la entrada del programa debe ser un número entero $n$ que indique cuántos términos de la suma se utilizará.\n",
    "\n",
    "\n",
    "* **Ejemplo**: *calcular_e(3)* =2.5, *calcular_e(1000)* = 2.7182818284590455"
   ]
  },
  {
   "cell_type": "markdown",
   "metadata": {},
   "source": [
    "### Definir función"
   ]
  },
  {
   "cell_type": "code",
   "execution_count": null,
   "metadata": {},
   "outputs": [],
   "source": [
    "def calcular_factorial(n:int)->int:\n",
    "    f=1\n",
    "    while n>1:\n",
    "        f*=n\n",
    "        n-=1\n",
    "    return f\n",
    "\n",
    "def calcular_e(n:int)->float:\n",
    "    \n",
    "    \"\"\"\n",
    "    calcular_e(n)\n",
    "\n",
    "    Aproximacion del valor de e mediante el método de Euler\n",
    "\n",
    "    Parameters\n",
    "    ----------\n",
    "    n : int\n",
    "        Numero de terminos.\n",
    "\n",
    "    Returns\n",
    "    -------\n",
    "    output : float\n",
    "        Valor aproximado de e.\n",
    "        \n",
    "    Examples\n",
    "    --------\n",
    "    >>> calcular_e(3)\n",
    "    2.5\n",
    "    \n",
    "    >>> calcular_e(1000) \n",
    "    2.7182818284590455\n",
    "    \"\"\"\n",
    "    \n",
    "    e=0 #valor inicial\n",
    "    for k in range(0,n):\n",
    "        serie=1/(calcular_factorial(k)) #iteracion\n",
    "        e+=serie #suma\n",
    "    return e"
   ]
  },
  {
   "cell_type": "code",
   "execution_count": null,
   "metadata": {},
   "outputs": [],
   "source": [
    "# Acceso a la documentación\n",
    "help(calcular_e)"
   ]
  },
  {
   "cell_type": "markdown",
   "metadata": {},
   "source": [
    "### Verificar ejemplos"
   ]
  },
  {
   "cell_type": "code",
   "execution_count": null,
   "metadata": {},
   "outputs": [],
   "source": [
    "# ejemplo 01\n",
    "assert calcular_e(3) == 2.5, \"ejemplo 01 incorrecto\""
   ]
  },
  {
   "cell_type": "code",
   "execution_count": null,
   "metadata": {},
   "outputs": [],
   "source": [
    "# ejemplo 02\n",
    "assert calcular_e(1000) ==  2.7182818284590455, \"ejemplo 02 incorrecto\""
   ]
  },
  {
   "cell_type": "markdown",
   "metadata": {},
   "source": [
    "<a id='p2'></a>\n",
    "\n",
    "## Problema 02\n",
    "\n",
    "\n",
    "Sea $\\sigma(n)$ definido como la suma de los divisores propios de $n$ (números menores que n que se dividen en $n$).\n",
    "\n",
    "Los [números amigos](https://en.wikipedia.org/wiki/Amicable_numbers) son  enteros positivos $n_1$ y $n_2$ tales que la suma de los divisores propios de uno es igual al otro número y viceversa, es decir, $\\sigma(n_1)=n_2$ y $\\sigma(n_2)=n_1$.\n",
    "\n",
    "\n",
    "Por ejemplo, los números 220 y 284 son números amigos.\n",
    "* los divisores propios de 220 son 1, 2, 4, 5, 10, 11, 20, 22, 44, 55 y 110; por lo tanto $\\sigma(220) = 284$. \n",
    "* los divisores propios de 284 son 1, 2, 4, 71 y 142; entonces $\\sigma(284) = 220$.\n",
    "\n",
    "\n",
    "Implemente una función llamada `amigos` cuyo input sean dos números naturales $n_1$ y $n_2$, cuyo output sea verifique si los números son amigos o no.\n",
    "\n",
    "* **Ejemplo**: *amigos(220,284)* = True, *amigos(6,5)* = False\n"
   ]
  },
  {
   "cell_type": "markdown",
   "metadata": {},
   "source": [
    "### Definir Función"
   ]
  },
  {
   "cell_type": "code",
   "execution_count": null,
   "metadata": {},
   "outputs": [],
   "source": [
    "def sigma(n:int)->int:\n",
    "    d=n-1\n",
    "    sum=0\n",
    "    while(d!=0):\n",
    "        if(n%d==0):\n",
    "            sum+=d\n",
    "            d=d-1\n",
    "        else:\n",
    "            d=d-1\n",
    "    return sum\n",
    "\n",
    "def amigos(n1:int, n2:int)->bool:\n",
    "    \n",
    "    \"\"\"\n",
    "    amigos(n)\n",
    "\n",
    "    Muestra si dos numeros son amigos.\n",
    "\n",
    "    Parameters\n",
    "    ----------\n",
    "    n1 : int\n",
    "        Primer numero.\n",
    "    \n",
    "    n2 : int\n",
    "        Segundo numero.\n",
    "\n",
    "    Returns\n",
    "    -------\n",
    "    output : bool\n",
    "        True: si los numeros son amigos.\n",
    "        False: si los numeros no son amigos.\n",
    "        \n",
    "    Examples\n",
    "    --------\n",
    "    >>> amigos(220,284)\n",
    "    True\n",
    "    \n",
    "    >>> amigos(6,5) \n",
    "    False\n",
    "    \"\"\"\n",
    "    if(sigma(n1)==n2 and sigma(n2)==n1):\n",
    "        return True\n",
    "    else:\n",
    "        return False"
   ]
  },
  {
   "cell_type": "code",
   "execution_count": null,
   "metadata": {},
   "outputs": [],
   "source": [
    "# Acceso a la documentación\n",
    "help(amigos)"
   ]
  },
  {
   "cell_type": "markdown",
   "metadata": {},
   "source": [
    "### Verificar ejemplos"
   ]
  },
  {
   "cell_type": "code",
   "execution_count": null,
   "metadata": {},
   "outputs": [],
   "source": [
    "# ejemplo 01\n",
    "assert amigos(220,284) == True, \"ejemplo 01 incorrecto\""
   ]
  },
  {
   "cell_type": "code",
   "execution_count": null,
   "metadata": {},
   "outputs": [],
   "source": [
    "# ejemplo 02\n",
    "assert amigos(6,5) == False, \"ejemplo 02 incorrecto\""
   ]
  },
  {
   "cell_type": "markdown",
   "metadata": {},
   "source": [
    "<a id='p3'></a>\n",
    "\n",
    "## Problema 03\n",
    "\n",
    "La [conjetura de Collatz](https://en.wikipedia.org/wiki/Collatz_conjecture), conocida también como conjetura $3n+1$ o conjetura de Ulam (entre otros nombres), fue enunciada por el matemático Lothar Collatz en 1937, y a la fecha no se ha resuelto.\n",
    "\n",
    "Sea la siguiente operación, aplicable a cualquier número entero positivo:\n",
    "* Si el número es par, se divide entre 2.\n",
    "* Si el número es impar, se multiplica por 3 y se suma 1.\n",
    "\n",
    "La conjetura dice que siempre alcanzaremos el 1 (y por tanto el ciclo 4, 2, 1) para cualquier número con el que comencemos. \n",
    "\n",
    "Implemente una función llamada `collatz` cuyo input sea un número natural positivo $N$ y como output devuelva la secuencia de números hasta llegar a 1.\n",
    "\n",
    "* **Ejemplo**: *collatz(9)* = [9, 28, 14, 7, 22, 11, 34, 17, 52, 26, 13, 40, 20, 10, 5, 16, 8, 4, 2, 1]"
   ]
  },
  {
   "cell_type": "markdown",
   "metadata": {},
   "source": [
    "### Definir Función"
   ]
  },
  {
   "cell_type": "code",
   "execution_count": null,
   "metadata": {},
   "outputs": [],
   "source": [
    "def par(n:int)->int:\n",
    "    c=n/2\n",
    "    return c\n",
    "\n",
    "def impar(n:int)->int:\n",
    "    c=3*n+1\n",
    "    return c\n",
    "\n",
    "def collatz(n:int)->list:\n",
    "    \n",
    "    \"\"\"\n",
    "    collatz(n)\n",
    "\n",
    "    Entrega una secuencia de numeros segun la conjetura de Collatz.\n",
    "\n",
    "    Parameters\n",
    "    ----------\n",
    "    n : int\n",
    "        Numero para realizar la secuencia de numeros.\n",
    "\n",
    "    Returns\n",
    "    -------\n",
    "    output : list\n",
    "        Lista con la secuencia de numeros.\n",
    "        \n",
    "    Examples\n",
    "    --------\n",
    "    >>> collatz(9)\n",
    "    [9, 28, 14, 7, 22, 11, 34, 17, 52, 26, 13, 40, 20, 10, 5, 16, 8, 4, 2, 1]\n",
    "    \"\"\"\n",
    "    \n",
    "    secuencia = []\n",
    "    secuencia.append(n)\n",
    "    while (n>1):\n",
    "        if (n%2==0):\n",
    "            n=int(par(n))\n",
    "            secuencia.append(n)\n",
    "        else:\n",
    "            n=int(impar(n))\n",
    "            secuencia.append(n)\n",
    "    return secuencia"
   ]
  },
  {
   "cell_type": "code",
   "execution_count": null,
   "metadata": {},
   "outputs": [],
   "source": [
    "# Acceso a la documentación\n",
    "help(collatz)"
   ]
  },
  {
   "cell_type": "markdown",
   "metadata": {},
   "source": [
    "### Verificar ejemplos"
   ]
  },
  {
   "cell_type": "code",
   "execution_count": null,
   "metadata": {},
   "outputs": [],
   "source": [
    "# ejemplo 01\n",
    "assert collatz(9) == [9, 28, 14, 7, 22, 11, 34, 17, 52, 26, 13, 40, 20, 10, 5, 16, 8, 4, 2, 1], \"ejemplo 01 incorrecto\""
   ]
  },
  {
   "cell_type": "markdown",
   "metadata": {},
   "source": [
    "<a id='p4'></a>\n",
    "\n",
    "## Problema 04\n",
    "\n",
    "La [conjetura de Goldbach](https://en.wikipedia.org/wiki/Goldbach%27s_conjecture) es uno de los problemas abiertos más antiguos en matemáticas. Concretamente, G.H. Hardy, en 1921, en su famoso discurso pronunciado en la Sociedad Matemática de Copenhague, comentó que probablemente la conjetura de Goldbach no es solo uno de los problemas no resueltos más difíciles de la teoría de números, sino de todas las matemáticas. Su enunciado es el siguiente:\n",
    "\n",
    "$$\\textrm{Todo número par mayor que 2 puede escribirse como suma de dos números primos - Christian Goldbach (1742)}$$\n",
    "\n",
    "Implemente una función llamada `goldbach` cuyo input sea un número natural positivo $N$ y como output devuelva la suma de dos primos ($N1$ y $N2$) tal que: $N1+N2=N$. \n",
    "\n",
    " * **Ejemplo**: goldbach(4) = (2,2), goldbach(6) = (3,3) , goldbach(8) = (3,5)"
   ]
  },
  {
   "cell_type": "markdown",
   "metadata": {},
   "source": [
    "### Definir función"
   ]
  },
  {
   "cell_type": "code",
   "execution_count": null,
   "metadata": {},
   "outputs": [],
   "source": [
    "def comprobar_primo(n:int)->bool:\n",
    "    if n<2:\n",
    "        return False\n",
    "    for k in range(2,n):\n",
    "        if (n%k == 0):\n",
    "            return False\n",
    "    return True\n",
    "\n",
    "def goldbach(N:int)->tuple:\n",
    "    \n",
    "    \"\"\"\n",
    "    goldbach(n)\n",
    "\n",
    "    Busca dos numeros primos tal que sumen n.\n",
    "\n",
    "    Parameters\n",
    "    ----------\n",
    "    n : int\n",
    "        Numero para escribirlo como suma de dos numeros primos.\n",
    "\n",
    "    Returns\n",
    "    -------\n",
    "    output : tuple\n",
    "        Tupla con dos numeros primos tal que sumen n.\n",
    "        \n",
    "    Examples\n",
    "    --------\n",
    "    >>> goldbach(4)\n",
    "    (2,2)\n",
    "    \n",
    "    >>> goldbach(6)\n",
    "    (3,3)\n",
    "    \n",
    "    >>> goldbach(8)\n",
    "    (3,5)\n",
    "    \"\"\"\n",
    "    \n",
    "    for k in range(2,N):\n",
    "        if (comprobar_primo(k)):\n",
    "            C=N-k\n",
    "            if (comprobar_primo(C)):\n",
    "                if (k<=C):\n",
    "                    tupla=(k,C)\n",
    "    return tupla"
   ]
  },
  {
   "cell_type": "code",
   "execution_count": null,
   "metadata": {},
   "outputs": [],
   "source": [
    "# Acceso a la documentación\n",
    "help(goldbach)"
   ]
  },
  {
   "cell_type": "markdown",
   "metadata": {},
   "source": [
    "### Verificar ejemplos"
   ]
  },
  {
   "cell_type": "code",
   "execution_count": null,
   "metadata": {},
   "outputs": [],
   "source": [
    "# ejemplo 01\n",
    "assert  goldbach(4) == (2,2), \"ejemplo 01 incorrecto\""
   ]
  },
  {
   "cell_type": "code",
   "execution_count": null,
   "metadata": {},
   "outputs": [],
   "source": [
    "# ejemplo 02\n",
    "assert goldbach(6) == (3,3), \"ejemplo 02 incorrecto\""
   ]
  },
  {
   "cell_type": "code",
   "execution_count": null,
   "metadata": {},
   "outputs": [],
   "source": [
    "# ejemplo 03\n",
    "assert goldbach(8) == (3,5), \"ejemplo 03 incorrecto\""
   ]
  }
 ],
 "metadata": {
  "kernelspec": {
   "display_name": "Python 3 (ipykernel)",
   "language": "python",
   "name": "python3"
  },
  "language_info": {
   "codemirror_mode": {
    "name": "ipython",
    "version": 3
   },
   "file_extension": ".py",
   "mimetype": "text/x-python",
   "name": "python",
   "nbconvert_exporter": "python",
   "pygments_lexer": "ipython3",
   "version": "3.8.11"
  }
 },
 "nbformat": 4,
 "nbformat_minor": 4
}
